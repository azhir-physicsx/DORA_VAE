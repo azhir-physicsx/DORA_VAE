{
 "cells": [
  {
   "cell_type": "code",
   "execution_count": 1,
   "id": "e1b1127c",
   "metadata": {},
   "outputs": [
    {
     "name": "stderr",
     "output_type": "stream",
     "text": [
      "/home/azhir/Dora/pytorch_lightning/craftsman/utils/checkpoint.py:39: `torch.cuda.amp.custom_fwd(args...)` is deprecated. Please use `torch.amp.custom_fwd(args..., device_type='cuda')` instead.\n"
     ]
    }
   ],
   "source": [
    "import sys\n",
    "sys.path.append('/home/azhir/Dora/pytorch_lightning')\n",
    "from craftsman.models.autoencoders.michelangelo_autoencoder import MichelangeloAutoencoder"
   ]
  },
  {
   "cell_type": "code",
   "execution_count": null,
   "id": "03edeb47",
   "metadata": {},
   "outputs": [
    {
     "name": "stdout",
     "output_type": "stream",
     "text": [
      "Loading pretrained shape model from /home/azhir/Dora/pytorch_lightning/ckpts/Dora-VAE-1.1/dora_vae_1_1.ckpt\n"
     ]
    },
    {
     "data": {
      "text/plain": [
       "MichelangeloAutoencoder(\n",
       "  (embedder): FourierEmbedder()\n",
       "  (encoder): PerceiverCrossAttentionEncoder(\n",
       "    (embedder): FourierEmbedder()\n",
       "    (input_proj): Linear(in_features=54, out_features=768, bias=True)\n",
       "    (input_proj1): Linear(in_features=54, out_features=768, bias=True)\n",
       "    (cross_attn): ResidualCrossAttentionBlock(\n",
       "      (attn): MultiheadCrossAttention(\n",
       "        (c_q): Linear(in_features=768, out_features=768, bias=False)\n",
       "        (c_kv): Linear(in_features=768, out_features=1536, bias=False)\n",
       "        (c_proj): Linear(in_features=768, out_features=768, bias=True)\n",
       "        (attention): QKVMultiheadCrossAttention()\n",
       "      )\n",
       "      (ln_1): LayerNorm((768,), eps=1e-05, elementwise_affine=True)\n",
       "      (ln_2): LayerNorm((768,), eps=1e-05, elementwise_affine=True)\n",
       "      (mlp): MLP(\n",
       "        (c_fc): Linear(in_features=768, out_features=3072, bias=True)\n",
       "        (c_proj): Linear(in_features=3072, out_features=768, bias=True)\n",
       "        (gelu): GELU(approximate='none')\n",
       "      )\n",
       "      (ln_3): LayerNorm((768,), eps=1e-05, elementwise_affine=True)\n",
       "    )\n",
       "    (cross_attn1): ResidualCrossAttentionBlock(\n",
       "      (attn): MultiheadCrossAttention(\n",
       "        (c_q): Linear(in_features=768, out_features=768, bias=False)\n",
       "        (c_kv): Linear(in_features=768, out_features=1536, bias=False)\n",
       "        (c_proj): Linear(in_features=768, out_features=768, bias=True)\n",
       "        (attention): QKVMultiheadCrossAttention()\n",
       "      )\n",
       "      (ln_1): LayerNorm((768,), eps=1e-05, elementwise_affine=True)\n",
       "      (ln_2): LayerNorm((768,), eps=1e-05, elementwise_affine=True)\n",
       "      (mlp): MLP(\n",
       "        (c_fc): Linear(in_features=768, out_features=3072, bias=True)\n",
       "        (c_proj): Linear(in_features=3072, out_features=768, bias=True)\n",
       "        (gelu): GELU(approximate='none')\n",
       "      )\n",
       "      (ln_3): LayerNorm((768,), eps=1e-05, elementwise_affine=True)\n",
       "    )\n",
       "    (self_attn): Perceiver(\n",
       "      (resblocks): ModuleList(\n",
       "        (0-7): 8 x ResidualAttentionBlock(\n",
       "          (attn): MultiheadAttention(\n",
       "            (c_qkv): Linear(in_features=768, out_features=2304, bias=False)\n",
       "            (c_proj): Linear(in_features=768, out_features=768, bias=True)\n",
       "            (attention): QKVMultiheadAttention()\n",
       "          )\n",
       "          (ln_1): LayerNorm((768,), eps=1e-05, elementwise_affine=True)\n",
       "          (mlp): MLP(\n",
       "            (c_fc): Linear(in_features=768, out_features=3072, bias=True)\n",
       "            (c_proj): Linear(in_features=3072, out_features=768, bias=True)\n",
       "            (gelu): GELU(approximate='none')\n",
       "          )\n",
       "          (ln_2): LayerNorm((768,), eps=1e-05, elementwise_affine=True)\n",
       "        )\n",
       "      )\n",
       "    )\n",
       "    (ln_post): LayerNorm((768,), eps=1e-05, elementwise_affine=True)\n",
       "  )\n",
       "  (pre_kl): Linear(in_features=768, out_features=128, bias=True)\n",
       "  (post_kl): Linear(in_features=64, out_features=768, bias=True)\n",
       "  (transformer): Perceiver(\n",
       "    (resblocks): ModuleList(\n",
       "      (0-15): 16 x ResidualAttentionBlock(\n",
       "        (attn): MultiheadAttention(\n",
       "          (c_qkv): Linear(in_features=768, out_features=2304, bias=False)\n",
       "          (c_proj): Linear(in_features=768, out_features=768, bias=True)\n",
       "          (attention): QKVMultiheadAttention()\n",
       "        )\n",
       "        (ln_1): LayerNorm((768,), eps=1e-05, elementwise_affine=True)\n",
       "        (mlp): MLP(\n",
       "          (c_fc): Linear(in_features=768, out_features=3072, bias=True)\n",
       "          (c_proj): Linear(in_features=3072, out_features=768, bias=True)\n",
       "          (gelu): GELU(approximate='none')\n",
       "        )\n",
       "        (ln_2): LayerNorm((768,), eps=1e-05, elementwise_affine=True)\n",
       "      )\n",
       "    )\n",
       "  )\n",
       "  (decoder): PerceiverCrossAttentionDecoder(\n",
       "    (embedder): FourierEmbedder()\n",
       "    (query_proj): Linear(in_features=51, out_features=768, bias=True)\n",
       "    (cross_attn_decoder): ResidualCrossAttentionBlock(\n",
       "      (attn): MultiheadCrossAttention(\n",
       "        (c_q): Linear(in_features=768, out_features=768, bias=False)\n",
       "        (c_kv): Linear(in_features=768, out_features=1536, bias=False)\n",
       "        (c_proj): Linear(in_features=768, out_features=768, bias=True)\n",
       "        (attention): QKVMultiheadCrossAttention()\n",
       "      )\n",
       "      (ln_1): LayerNorm((768,), eps=1e-05, elementwise_affine=True)\n",
       "      (ln_2): LayerNorm((768,), eps=1e-05, elementwise_affine=True)\n",
       "      (mlp): MLP(\n",
       "        (c_fc): Linear(in_features=768, out_features=3072, bias=True)\n",
       "        (c_proj): Linear(in_features=3072, out_features=768, bias=True)\n",
       "        (gelu): GELU(approximate='none')\n",
       "      )\n",
       "      (ln_3): LayerNorm((768,), eps=1e-05, elementwise_affine=True)\n",
       "    )\n",
       "    (ln_post): LayerNorm((768,), eps=1e-05, elementwise_affine=True)\n",
       "    (output_proj): Linear(in_features=768, out_features=1, bias=True)\n",
       "  )\n",
       ")"
      ]
     },
     "execution_count": 2,
     "metadata": {},
     "output_type": "execute_result"
    }
   ],
   "source": [
    "# Define the configuration\n",
    "config = MichelangeloAutoencoder.Config(\n",
    "    pretrained_model_name_or_path='/home/azhir/Dora/pytorch_lightning/ckpts/Dora-VAE-1.1/dora_vae_1_1.ckpt',\n",
    "    use_downsample=True,\n",
    "    num_latents=256,\n",
    "    point_feats=3,\n",
    "    embed_point_feats=False,\n",
    "    out_dim=1,\n",
    "    embed_dim=64,\n",
    "    embed_type='fourier',\n",
    "    num_freqs=8,\n",
    "    include_pi=False,\n",
    "    width=768,\n",
    "    heads=12,\n",
    "    num_encoder_layers=8,\n",
    "    num_decoder_layers=16,\n",
    "    init_scale=0.25,\n",
    "    qkv_bias=False,\n",
    "    use_ln_post=True,\n",
    "    use_flash=True,\n",
    "    use_checkpoint=True\n",
    ")\n",
    "\n",
    "# Convert Config object to dictionary\n",
    "config_dict = config.__dict__\n",
    "\n",
    "# Instantiate the model with the dictionary\n",
    "model = MichelangeloAutoencoder(cfg=config_dict)\n",
    "model.eval()  # Set the model to evaluation mode"
   ]
  },
  {
   "cell_type": "code",
   "execution_count": null,
   "id": "eedd6a9d",
   "metadata": {},
   "outputs": [
    {
     "name": "stdout",
     "output_type": "stream",
     "text": [
      "Decoded Output: tensor([[[-0.3500,  0.9348,  0.7684,  ..., -0.4283, -0.0028, -0.3117],\n",
      "         [-0.3990,  0.8272,  0.3626,  ..., -0.3487, -0.2049,  0.4440],\n",
      "         [ 0.5666,  0.6042, -0.7087,  ..., -0.2170, -0.1330,  0.1176],\n",
      "         ...,\n",
      "         [-0.2403,  0.9295, -0.6673,  ..., -0.5174, -0.3436,  0.4496],\n",
      "         [ 0.2973, -0.1050,  1.8477,  ..., -0.0144, -0.3656,  1.3114],\n",
      "         [-0.9137,  0.2099,  2.6271,  ...,  0.0644,  0.2043,  0.8217]]],\n",
      "       grad_fn=<CheckpointFunctionBackward>)\n"
     ]
    }
   ],
   "source": [
    "# Generate random latent codes\n",
    "import torch\n",
    "latent_code = torch.randn(1, 256, 64)  # [Batch, num_latents, embed_dim]\n",
    "\n",
    "# Decode the latent codes into shapes\n",
    "decoded_output = model.decode(latent_code)\n",
    "\n",
    "# Print the decoded outpu\n",
    "print('Decoded Output:', decoded_output)"
   ]
  },
  {
   "cell_type": "code",
   "execution_count": null,
   "id": "038c2132",
   "metadata": {},
   "outputs": [
    {
     "data": {
      "text/plain": [
       "torch.Size([1, 256, 768])"
      ]
     },
     "execution_count": 7,
     "metadata": {},
     "output_type": "execute_result"
    }
   ],
   "source": [
    "decoded_output.shape\n",
    "\n",
    "git remote set-url origin git@github.com:azhir-physicsx/DORA_VAE.git\n",
    "\n",
    "git@github.com:azhir-physicsx/DORA_VAE.git"
   ]
  }
 ],
 "metadata": {
  "kernelspec": {
   "display_name": "dora_env",
   "language": "python",
   "name": "python3"
  },
  "language_info": {
   "codemirror_mode": {
    "name": "ipython",
    "version": 3
   },
   "file_extension": ".py",
   "mimetype": "text/x-python",
   "name": "python",
   "nbconvert_exporter": "python",
   "pygments_lexer": "ipython3",
   "version": "3.10.18"
  }
 },
 "nbformat": 4,
 "nbformat_minor": 5
}
